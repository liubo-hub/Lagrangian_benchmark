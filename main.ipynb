{
 "cells": [
  {
   "cell_type": "markdown",
   "metadata": {},
   "source": [
    "# **拉格朗日粒子流体Benchmark开源数据集**"
   ]
  },
  {
   "cell_type": "markdown",
   "metadata": {
    "tags": []
   },
   "source": [
    "![](https://ai-studio-static-online.cdn.bcebos.com/433a5637354940f48f383b6e4d356db0ad0a976f1d4c4bc8b1d45b52f4d5c702)\n",
    "* **基于拉格朗日粒子法的PDE求解器在处理自由表面或复杂流固问题有天然的优势。**\n",
    "\n",
    "* **建立一个完备且丰富多样的公开基准数据集将非常有益于对比不同科学人工智能模型优劣性并改进现有的模型。本项目将使用Taichi开源SPH、MPM及DEM粒子求解器生成颗粒流、溃坝、诸如泰勒-格林涡旋、方腔流、及射流等数据集以供后续高级AI学习器的训练和模型评估使用。**\n"
   ]
  },
  {
   "cell_type": "markdown",
   "metadata": {},
   "source": [
    "# 目录结构：\n",
    "![](https://ai-studio-static-online.cdn.bcebos.com/05994cf82d2847869bb51f9f48a0c8c198a1eae2e5194f3e94295998f1541c89)\n"
   ]
  },
  {
   "cell_type": "markdown",
   "metadata": {},
   "source": [
    "# 一. 方法介绍"
   ]
  },
  {
   "cell_type": "markdown",
   "metadata": {},
   "source": [
    "## **1.SPH**"
   ]
  },
  {
   "cell_type": "markdown",
   "metadata": {
    "tags": []
   },
   "source": [
    "![](https://ai-studio-static-online.cdn.bcebos.com/c16478b148234dc98efea6c2862e0d2c8f13b26b265d466495b2d190a919332b)\n",
    "\n",
    "\n",
    "* **SPH（Smoothed Particle Hydrodynamics）**\n",
    "是一种基于粒子的数值计算方法，主要用于模拟流体力学现象。它最初是为了在天体物理学中模拟星系的运动而开发的，后来在计算流体动力学、结构力学和其他领域得到广泛应用。\n",
    "\n",
    "* **基本原理：**\n",
    "基于拉格朗日方法，通过将流体或物质划分为小的粒子，使用平滑核函数对这些粒子进行插值来模拟物质的流动行为，主要用于流体动力学的模拟。\n",
    "\n",
    "* **应用领域：**\n",
    "主要用于流体动力学的模拟，如水动力学、海洋学、气象学等。\n",
    "\n",
    "上图为SPH 不可压缩性流体模拟，引自 Mackin M, Muller M. Position based fluids. ACM Trans.on Graphics, 2013, 32(4): 104.[doi.10.1145/2461912.2461984]\n",
    "\n"
   ]
  },
  {
   "cell_type": "markdown",
   "metadata": {},
   "source": [
    "## **2.DEM**"
   ]
  },
  {
   "cell_type": "markdown",
   "metadata": {},
   "source": [
    "![](https://ai-studio-static-online.cdn.bcebos.com/3028fbe80b0043c5b235dc1f3f821da97501695246cc4d2aabfc3422e9bc69e2)\n",
    "\n",
    "* **DEM（Discrete Element Method）**\n",
    "是一种数值计算方法，用于模拟颗粒材料的力学行为。它将颗粒材料看作是由许多个离散颗粒组成的集合，通过模拟颗粒之间的相互作用，可以研究颗粒材料在不同条件下的变形、流动和碰撞等行为。\n",
    "\n",
    "* **基本原理：**\n",
    "通过将物体划分为离散的颗粒或刚体，模拟它们之间的相互作用，主要用于模拟颗粒材料、颗粒流动和颗粒间碰撞等问题。\n",
    "\n",
    "* **应用领域：**\n",
    "适用于模拟颗粒材料的行为，如颗粒流动、振动筛分、颗粒间碰撞等，广泛应用于颗粒技术和岩土工程领域。\n",
    "\n",
    "上图为采用Fluent（DDPM+DEM）实现工业实际流化床（CFB）反应器数值模拟"
   ]
  },
  {
   "cell_type": "markdown",
   "metadata": {},
   "source": [
    "## **3.MPM**"
   ]
  },
  {
   "cell_type": "markdown",
   "metadata": {},
   "source": [
    "![](https://ai-studio-static-online.cdn.bcebos.com/e6f6ff42a2ba4d0dbab86b5723a93fd8f914d773a1b74114aa8c9809623fb5a1)\n",
    "\n",
    "* **MPM（Material Point Method）**\n",
    "是一种用于模拟材料变形和流体-固体相互作用的计算方法。它是一种混合方法，结合了拉格朗日方法和欧拉方法的特点，主要用于处理大变形、多相流动、物质破碎等问题。\n",
    "\n",
    "* **基本原理**：\n",
    "将物质表示为一组质点，并在一个欧拉网格上追踪这些质点的运动，结合拉格朗日和欧拉方法的特点，主要用于模拟固体和流体的相互作用，适用于大变形和多相流问题。\n",
    "\n",
    "* **应用领域：**\n",
    "主要用于模拟固体物质的变形、破碎、流动等，适用于土木工程、地质学、材料科学等。\n",
    "\n",
    "上图引自Disney《冰雪奇缘制作过程公开》\n"
   ]
  },
  {
   "cell_type": "markdown",
   "metadata": {},
   "source": [
    "# 二. 方法对比"
   ]
  },
  {
   "cell_type": "markdown",
   "metadata": {},
   "source": [
    "**SPH（Smoothed Particle Hydrodynamics），DEM（Discrete Element Method），和MPM（Material Point Method）都是用于模拟物质行为的数值方法，各自有一些优点和缺点。**\n",
    "* **SPH（Smoothed Particle Hydrodynamics）:**\n",
    "* 优点：适用于自由表面流体动力学问题，如水流、液滴等；粒子之间的相互作用可以很自然地模拟；适用于处理大变形和破碎问题。\n",
    "* 缺点：对边界条件的处理相对复杂，需要采用一些特殊的技术；粒子数目随问题的复杂度增加而增加，计算成本相对较高；不太适用于处理固体物质的行为。\n",
    "* **DEM（Discrete Element Method）:**\n",
    "* 优点：适用于处理颗粒流、颗粒-结构相互作用等问题；对于颗粒间的碰撞和接触行为建模较为准确；相对容易处理边界条件。\n",
    "* 缺点：难以处理流体-颗粒相互作用，无法模拟流体行为；当颗粒数目较大时，计算成本显著增加；不适用于处理大变形和破碎问题。\n",
    "\n",
    "* **MPM（Material Point Method）:**\n",
    "* 优点： 结合了粒子方法和网格方法的优点，适用于多相、多材料问题；能够有效处理大变形和破碎问题；适用于强化学习等机器学习方法的耦合；\n",
    "* 缺点：在处理自由表面流体动力学问题时，可能需要额外的技巧；对于某些问题，网格的固定结构可能导致计算效率不如其他方法；对于颗粒流等特定问题，DEM可能更为适用。\n",
    "\n",
    "综合来说，选择适当的数值方法取决于所研究问题的性质。在实际应用中，研究者可能会根据问题的特点选择合适的方法，甚至将不同方法结合使用以充分发挥各自的优势。"
   ]
  },
  {
   "cell_type": "markdown",
   "metadata": {},
   "source": [
    " # 三. 程序运行"
   ]
  },
  {
   "cell_type": "markdown",
   "metadata": {},
   "source": [
    "## **1.配置环境：**\n",
    "为方便快速对数据集进行训练推理测试，将conda环境打包（由于在虚拟环境中存在包冲突的问题且无法在jupyter笔记中运行后端conda环境）只需解压文件，使用其中的python解释器即可。\n",
    "```\n",
    "!unzip /home/aistudio/data/data260626/lbench.zip\n",
    "\n",
    "```"
   ]
  },
  {
   "cell_type": "code",
   "execution_count": null,
   "metadata": {
    "scrolled": true,
    "tags": []
   },
   "outputs": [],
   "source": [
    "!unzip /home/aistudio/data/data260626/lbench.zip"
   ]
  },
  {
   "cell_type": "markdown",
   "metadata": {},
   "source": [
    "**创建文件夹：**"
   ]
  },
  {
   "cell_type": "code",
   "execution_count": null,
   "metadata": {
    "scrolled": true
   },
   "outputs": [],
   "source": [
    "!mkdir dataset"
   ]
  },
  {
   "cell_type": "markdown",
   "metadata": {},
   "source": [
    "**解压数据集（所有数据集都在文件夹data中，可以改变名字解压需要的数据集）：**"
   ]
  },
  {
   "cell_type": "code",
   "execution_count": 1,
   "metadata": {
    "execution": {
     "iopub.execute_input": "2024-03-02T13:13:14.753414Z",
     "iopub.status.busy": "2024-03-02T13:13:14.752275Z",
     "iopub.status.idle": "2024-03-02T13:13:26.584853Z",
     "shell.execute_reply": "2024-03-02T13:13:26.583758Z",
     "shell.execute_reply.started": "2024-03-02T13:13:14.753370Z"
    },
    "scrolled": true,
    "tags": []
   },
   "outputs": [
    {
     "name": "stdout",
     "output_type": "stream",
     "text": [
      "Archive:  /home/aistudio/data/data260580/2D_DAM_5740_20kevery100.zip\r\n",
      "  inflating: /home/aistudio/dataset/2D_DAM_5740_20kevery100/metadata.json  \r\n",
      "  inflating: /home/aistudio/dataset/2D_DAM_5740_20kevery100/test.h5  \r\n",
      "  inflating: /home/aistudio/dataset/2D_DAM_5740_20kevery100/train.h5  \r\n",
      "  inflating: /home/aistudio/dataset/2D_DAM_5740_20kevery100/valid.h5  \r\n"
     ]
    }
   ],
   "source": [
    "!unzip /home/aistudio/data/data260580/2D_DAM_5740_20kevery100.zip -d /home/aistudio/dataset/2D_DAM_5740_20kevery100"
   ]
  },
  {
   "cell_type": "markdown",
   "metadata": {},
   "source": [
    "## **2.利用lagrangebench对数据集进行训练**\n",
    "```\n",
    "!/home/aistudio/lbench/bin/python /home/aistudio/lagrangebench-main/main.py --config=/home/aistudio/lagrangebench-main/configs/rpf_2d/gns.yaml\n",
    "```\n",
    "* 运行环境：/home/aistudio/lbench/bin/python\n",
    "* 模型主要入口：/home/aistudio/lagrangebench-main/main.py\n",
    "* 配置文件：--config=/home/aistudio/lagrangebench-main/configs/rpf_2d/gns.yaml"
   ]
  },
  {
   "cell_type": "code",
   "execution_count": 2,
   "metadata": {
    "execution": {
     "iopub.execute_input": "2024-03-02T13:13:26.610063Z",
     "iopub.status.busy": "2024-03-02T13:13:26.609454Z",
     "iopub.status.idle": "2024-03-02T13:32:20.779419Z",
     "shell.execute_reply": "2024-03-02T13:32:20.777594Z",
     "shell.execute_reply.started": "2024-03-02T13:13:26.610032Z"
    },
    "scrolled": true,
    "tags": []
   },
   "outputs": [
    {
     "name": "stdout",
     "output_type": "stream",
     "text": [
      "Start training...\r\n",
      "/home/aistudio/lbench/lib/python3.9/site-packages/jax/_src/ops/scatter.py:94: FutureWarning: scatter inputs have incompatible types: cannot safely cast value from dtype=int64 to dtype=int32 with jax_numpy_dtype_promotion='standard'. In future JAX releases this will result in an error.\r\n",
      "  warnings.warn(\r\n",
      "000000, train/loss: 8.86366.\r\n",
      "001000, train/loss: 0.33420.\r\n",
      "002000, train/loss: 0.34216.\r\n",
      "003000, train/loss: 0.52613.\r\n",
      "004000, train/loss: 0.29581.\r\n",
      "005000, train/loss: 0.47533.\r\n",
      "006000, train/loss: 0.50233.\r\n",
      "007000, train/loss: 0.21635.\r\n",
      "008000, train/loss: 0.17289.\r\n",
      "009000, train/loss: 0.49286.\r\n",
      "010000, train/loss: 0.29731.\r\n",
      "saved model to ckp/gns_dam2d_20240302-211351 at step 10000 with loss 0.00045763962795685294\r\n",
      "{'val/loss': 0.00045763962795685294, 'val/mse1': 2.7715052615127746e-07, 'val/mse5': 5.34940926787966e-06, 'val/mse10': 3.911001772661501e-05, 'val/stdloss': 0.00017581774234149238, 'val/stdmse1': 5.62154067529306e-07, 'val/stdmse5': 4.298725445163408e-06, 'val/stdmse10': 2.158653586078847e-05}\r\n",
      "011000, train/loss: 0.24246.\r\n",
      "012000, train/loss: 2.03762.\r\n",
      "013000, train/loss: 0.23075.\r\n",
      "^C\r\n"
     ]
    }
   ],
   "source": [
    "!/home/aistudio/lbench/bin/python /home/aistudio/lagrangebench-main/main.py --config=/home/aistudio/lagrangebench-main/configs/dam_2d/gns.yaml"
   ]
  },
  {
   "cell_type": "markdown",
   "metadata": {},
   "source": [
    "## **3.对训练模型进行推理**\n",
    "```\n",
    "!/home/aistudio/lbench/bin/python /home/aistudio/lagrangebench-main/main.py --load_ckp=/home/aistudio/ckp/gns_dam2d_20240227-133120/best rollout_dir=/home/aistudio/rollout/gns_dam2d_20240227-133120/best mode=infer test=True\n",
    "\n",
    "```\n",
    "* 加载训练好的模型：model_dir /home/aistudio/ckp/gns_dam2d_20240302-211351/best\n",
    "* 推理输出地址：rollout_dir /home/aistudio/rollout/gns_dam2d_20240302-211351/best"
   ]
  },
  {
   "cell_type": "code",
   "execution_count": 29,
   "metadata": {
    "execution": {
     "iopub.execute_input": "2024-03-02T14:01:45.427255Z",
     "iopub.status.busy": "2024-03-02T14:01:45.426717Z",
     "iopub.status.idle": "2024-03-02T14:07:06.932753Z",
     "shell.execute_reply": "2024-03-02T14:07:06.931769Z",
     "shell.execute_reply.started": "2024-03-02T14:01:45.427221Z"
    },
    "scrolled": true,
    "tags": []
   },
   "outputs": [
    {
     "name": "stdout",
     "output_type": "stream",
     "text": [
      "Start inference...\r\n",
      "Loaded model from /home/aistudio/ckp/gns_dam2d_20240302-211351/best at step 10000\r\n",
      "/home/aistudio/lbench/lib/python3.9/site-packages/jax/_src/ops/scatter.py:94: FutureWarning: scatter inputs have incompatible types: cannot safely cast value from dtype=int64 to dtype=int32 with jax_numpy_dtype_promotion='standard'. In future JAX releases this will result in an error.\r\n",
      "  warnings.warn(\r\n",
      "rollout: 0\r\n",
      "rollout: 1\r\n",
      "rollout: 2\r\n",
      "rollout: 3\r\n",
      "rollout: 4\r\n",
      "rollout: 5\r\n",
      "rollout: 6\r\n",
      "rollout: 7\r\n",
      "rollout: 8\r\n",
      "rollout: 9\r\n",
      "rollout: 10\r\n",
      "rollout: 11\r\n",
      "rollout: 12\r\n",
      "rollout: 13\r\n",
      "rollout: 14\r\n",
      "rollout: 15\r\n",
      "rollout: 16\r\n",
      "rollout: 17\r\n",
      "rollout: 18\r\n",
      "rollout: 19\r\n",
      "rollout: 20\r\n",
      "rollout: 21\r\n",
      "rollout: 22\r\n",
      "rollout: 23\r\n",
      "rollout: 24\r\n",
      "rollout: 25\r\n",
      "rollout: 26\r\n",
      "rollout: 27\r\n",
      "rollout: 28\r\n",
      "rollout: 29\r\n",
      "rollout: 30\r\n",
      "rollout: 31\r\n",
      "rollout: 32\r\n",
      "^C\r\n"
     ]
    }
   ],
   "source": [
    "!/home/aistudio/lbench/bin/python /home/aistudio/lagrangebench-main/main.py --model_dir /home/aistudio/ckp/gns_dam2d_20240302-211351/best --rollout_dir /home/aistudio/rollout/gns_dam2d_20240302-211351/best --mode infer --test"
   ]
  },
  {
   "cell_type": "markdown",
   "metadata": {},
   "source": [
    "## **4.继续训练**\n",
    "```\n",
    "!/home/aistudio/lbench/bin/python --load_ckp=/home/aistudio/ckp/gns_dam2d_20240227-133120/best\n",
    "```\n",
    "加载检查点：model_dir=/home/aistudio/ckp/gns_dam2d_20240302-211351/best"
   ]
  },
  {
   "cell_type": "code",
   "execution_count": 27,
   "metadata": {
    "execution": {
     "iopub.execute_input": "2024-03-02T13:53:41.572889Z",
     "iopub.status.busy": "2024-03-02T13:53:41.571860Z",
     "iopub.status.idle": "2024-03-02T14:01:38.776886Z",
     "shell.execute_reply": "2024-03-02T14:01:38.775538Z",
     "shell.execute_reply.started": "2024-03-02T13:53:41.572845Z"
    },
    "scrolled": true,
    "tags": []
   },
   "outputs": [
    {
     "name": "stdout",
     "output_type": "stream",
     "text": [
      "Start training...\r\n",
      "/home/aistudio/lbench/lib/python3.9/site-packages/jax/_src/ops/scatter.py:94: FutureWarning: scatter inputs have incompatible types: cannot safely cast value from dtype=int64 to dtype=int32 with jax_numpy_dtype_promotion='standard'. In future JAX releases this will result in an error.\r\n",
      "  warnings.warn(\r\n",
      "Loaded model from /home/aistudio/ckp/gns_dam2d_20240302-211351/best at step 10000\r\n",
      "010000, train/loss: 0.19867.\r\n",
      "saved model to ckp/gns_dam2d_20240302-215404 at step 10000 with loss 0.00034175002157007357\r\n",
      "{'val/loss': 0.00034175002157007357, 'val/mse1': 2.708967175322392e-07, 'val/mse5': 4.81661886613849e-06, 'val/mse10': 3.264872404212883e-05, 'val/stdloss': 0.00016613345102260924, 'val/stdmse1': 5.610153024428174e-07, 'val/stdmse5': 4.249517213339228e-06, 'val/stdmse10': 2.1114570708891757e-05}\r\n",
      "011000, train/loss: 0.25703.\r\n",
      "012000, train/loss: 0.17546.\r\n",
      "013000, train/loss: 0.41745.\r\n",
      "014000, train/loss: 0.14652.\r\n",
      "015000, train/loss: 0.25190.\r\n",
      "^C\r\n"
     ]
    }
   ],
   "source": [
    "!/home/aistudio/lbench/bin/python /home/aistudio/lagrangebench-main/main.py --model_dir /home/aistudio/ckp/gns_dam2d_20240302-211351/best"
   ]
  },
  {
   "cell_type": "markdown",
   "metadata": {},
   "source": []
  },
  {
   "cell_type": "markdown",
   "metadata": {
    "execution": {
     "iopub.execute_input": "2024-03-02T13:32:20.895984Z",
     "iopub.status.busy": "2024-03-02T13:32:20.895749Z",
     "iopub.status.idle": "2024-03-02T13:32:21.635565Z",
     "shell.execute_reply": "2024-03-02T13:32:21.634455Z",
     "shell.execute_reply.started": "2024-03-02T13:32:20.895961Z"
    },
    "tags": []
   },
   "source": [
    "## **5.可视化**\n",
    "可根据数据集的json文件可调整渲染x,y,z轴的范围以及渲染的个数\n",
    "```\n",
    "import pickle\n",
    "import matplotlib.pyplot as plt\n",
    "from matplotlib import animation\n",
    "for i in range(0,100):\n",
    "    rollout = pickle.load(open(f\"/home/aistudio/rollout/gns_san2d_20240228-180012/best/rollout_{i}.pkl\", \"rb\"))\n",
    "    print(f\"rollout of shape {rollout['predicted_rollout'].shape} (steps, nodes, xy pos)\")\n",
    "\n",
    "    fig, ax = plt.subplots(1, 2)\n",
    "    # ax[0].set_xlim([0, 5.59])\n",
    "    # ax[0].set_ylim([0, 2.22])\n",
    "    # ax[1].set_xlim([0, 5.59])\n",
    "    # ax[1].set_ylim([0, 2.22])\n",
    "\n",
    "    ax[0].set_xlim([0.1, 0.9])\n",
    "    ax[0].set_ylim([0.2, 0.8])\n",
    "    ax[1].set_xlim([0.1, 0.9])\n",
    "    ax[1].set_ylim([0.2, 0.8])\n",
    "    fig.set_size_inches(10, 5, forward=True)\n",
    "    ax[0].set_title(\"GNS\")\n",
    "    ax[1].set_title(\"Ground Truth\")\n",
    "\n",
    "    rollout_len = rollout[\"predicted_rollout\"].shape[0] - 1\n",
    "\n",
    "    scat0 = ax[0].scatter(\n",
    "        rollout[\"predicted_rollout\"][0, :, 0], rollout[\"predicted_rollout\"][0, :, 1], s=40, animated=True\n",
    "    )\n",
    "    scat1 = ax[1].scatter(\n",
    "        rollout[\"ground_truth_rollout\"][0, :, 0], rollout[\"ground_truth_rollout\"][0, :, 1], s=40, animated=True\n",
    "    )\n",
    "\n",
    "\n",
    "    def animate(i):\n",
    "        scat0.set_offsets(rollout[\"predicted_rollout\"][i])\n",
    "        scat1.set_offsets(rollout[\"ground_truth_rollout\"][i])\n",
    "        return scat0, scat1\n",
    "\n",
    "\n",
    "    ani = animation.FuncAnimation(\n",
    "        fig, animate, repeat=True, frames=rollout_len, interval=50, blit=True\n",
    "    )\n",
    "\n",
    "    plt.close(fig)\n",
    "\n",
    "    writer = animation.PillowWriter(fps=10, metadata=dict(artist=\"Me\"), bitrate=1800)\n",
    "    ani.save(f\"/home/aistudio/gif/sand/{i}.gif\", writer=writer)\n",
    "```"
   ]
  },
  {
   "cell_type": "markdown",
   "metadata": {},
   "source": [
    "### **（1）渲染2D**\n",
    "无可视化界面，渲染的gif图已保存在 /home/aistudio/gif"
   ]
  },
  {
   "cell_type": "code",
   "execution_count": 33,
   "metadata": {
    "execution": {
     "iopub.execute_input": "2024-03-02T14:10:44.104817Z",
     "iopub.status.busy": "2024-03-02T14:10:44.103889Z",
     "iopub.status.idle": "2024-03-02T14:13:56.344992Z",
     "shell.execute_reply": "2024-03-02T14:13:56.343669Z",
     "shell.execute_reply.started": "2024-03-02T14:10:44.104768Z"
    },
    "scrolled": true,
    "tags": []
   },
   "outputs": [
    {
     "name": "stdout",
     "output_type": "stream",
     "text": [
      "rollout of shape (26, 2008, 2)(steps, nodes, xy pos)\r\n",
      "rollout of shape (26, 2008, 2)(steps, nodes, xy pos)\r\n",
      "rollout of shape (26, 2008, 2)(steps, nodes, xy pos)\r\n",
      "rollout of shape (26, 2008, 2)(steps, nodes, xy pos)\r\n",
      "rollout of shape (26, 2008, 2)(steps, nodes, xy pos)\r\n",
      "rollout of shape (26, 2008, 2)(steps, nodes, xy pos)\r\n",
      "rollout of shape (26, 2008, 2)(steps, nodes, xy pos)\r\n",
      "rollout of shape (26, 2008, 2)(steps, nodes, xy pos)\r\n",
      "rollout of shape (26, 2008, 2)(steps, nodes, xy pos)\r\n",
      "rollout of shape (26, 2008, 2)(steps, nodes, xy pos)\r\n",
      "rollout of shape (26, 2008, 2)(steps, nodes, xy pos)\r\n",
      "rollout of shape (26, 2008, 2)(steps, nodes, xy pos)\r\n",
      "rollout of shape (26, 2008, 2)(steps, nodes, xy pos)\r\n",
      "rollout of shape (26, 2008, 2)(steps, nodes, xy pos)\r\n",
      "rollout of shape (26, 2008, 2)(steps, nodes, xy pos)\r\n",
      "rollout of shape (26, 2008, 2)(steps, nodes, xy pos)\r\n",
      "rollout of shape (26, 2008, 2)(steps, nodes, xy pos)\r\n",
      "rollout of shape (26, 2008, 2)(steps, nodes, xy pos)\r\n",
      "rollout of shape (26, 2008, 2)(steps, nodes, xy pos)\r\n",
      "rollout of shape (26, 2008, 2)(steps, nodes, xy pos)\r\n",
      "rollout of shape (26, 2008, 2)(steps, nodes, xy pos)\r\n",
      "rollout of shape (26, 2008, 2)(steps, nodes, xy pos)\r\n",
      "rollout of shape (26, 2008, 2)(steps, nodes, xy pos)\r\n",
      "rollout of shape (26, 2008, 2)(steps, nodes, xy pos)\r\n",
      "rollout of shape (26, 2008, 2)(steps, nodes, xy pos)\r\n",
      "rollout of shape (26, 2008, 2)(steps, nodes, xy pos)\r\n",
      "rollout of shape (26, 2008, 2)(steps, nodes, xy pos)\r\n",
      "rollout of shape (26, 2008, 2)(steps, nodes, xy pos)\r\n",
      "rollout of shape (26, 2008, 2)(steps, nodes, xy pos)\r\n",
      "rollout of shape (26, 2008, 2)(steps, nodes, xy pos)\r\n",
      "rollout of shape (26, 2008, 2)(steps, nodes, xy pos)\r\n",
      "rollout of shape (26, 2008, 2)(steps, nodes, xy pos)\r\n",
      "rollout of shape (26, 2008, 2)(steps, nodes, xy pos)\r\n",
      "rollout of shape (26, 2008, 2)(steps, nodes, xy pos)\r\n",
      "rollout of shape (26, 2008, 2)(steps, nodes, xy pos)\r\n",
      "^C\r\n"
     ]
    }
   ],
   "source": [
    "!/home/aistudio/lbench/bin/python /home/aistudio/renderer.py"
   ]
  },
  {
   "cell_type": "markdown",
   "metadata": {},
   "source": [
    "### **（2）渲染3D**"
   ]
  },
  {
   "cell_type": "code",
   "execution_count": 4,
   "metadata": {
    "execution": {
     "iopub.execute_input": "2024-03-19T11:43:31.193614Z",
     "iopub.status.busy": "2024-03-19T11:43:31.193068Z",
     "iopub.status.idle": "2024-03-19T11:47:07.005677Z",
     "shell.execute_reply": "2024-03-19T11:47:07.004267Z",
     "shell.execute_reply.started": "2024-03-19T11:43:31.193582Z"
    },
    "scrolled": true,
    "tags": []
   },
   "outputs": [
    {
     "name": "stdout",
     "output_type": "stream",
     "text": [
      "rollout of shape (26, 8000, 3) (steps, nodes, xyz pos)\r\n",
      "rollout of shape (26, 8000, 3) (steps, nodes, xyz pos)\r\n",
      "rollout of shape (26, 8000, 3) (steps, nodes, xyz pos)\r\n",
      "rollout of shape (26, 8000, 3) (steps, nodes, xyz pos)\r\n",
      "rollout of shape (26, 8000, 3) (steps, nodes, xyz pos)\r\n",
      "rollout of shape (26, 8000, 3) (steps, nodes, xyz pos)\r\n",
      "rollout of shape (26, 8000, 3) (steps, nodes, xyz pos)\r\n",
      "rollout of shape (26, 8000, 3) (steps, nodes, xyz pos)\r\n",
      "rollout of shape (26, 8000, 3) (steps, nodes, xyz pos)\r\n",
      "^C\r\n"
     ]
    }
   ],
   "source": [
    "!/home/aistudio/lbench/bin/python /home/aistudio/renderer_3D.py"
   ]
  },
  {
   "cell_type": "markdown",
   "metadata": {},
   "source": [
    "## **6.SPH运行示例**"
   ]
  },
  {
   "cell_type": "markdown",
   "metadata": {},
   "source": [
    "### **（1）配置环境**"
   ]
  },
  {
   "cell_type": "code",
   "execution_count": 14,
   "metadata": {
    "execution": {
     "iopub.execute_input": "2024-03-19T12:25:29.685016Z",
     "iopub.status.busy": "2024-03-19T12:25:29.684234Z",
     "iopub.status.idle": "2024-03-19T12:25:31.957391Z",
     "shell.execute_reply": "2024-03-19T12:25:31.955779Z",
     "shell.execute_reply.started": "2024-03-19T12:25:29.684976Z"
    },
    "scrolled": true
   },
   "outputs": [
    {
     "name": "stdout",
     "output_type": "stream",
     "text": [
      "Looking in indexes: https://mirror.baidu.com/pypi/simple/, https://mirrors.aliyun.com/pypi/simple/\r\n",
      "Requirement already satisfied: taichi>=1.2.0 in /opt/conda/envs/python35-paddle120-env/lib/python3.10/site-packages (from -r /home/aistudio/SPH_Taichi/requirements.txt (line 1)) (1.7.0)\r\n",
      "Requirement already satisfied: trimesh in /opt/conda/envs/python35-paddle120-env/lib/python3.10/site-packages (from -r /home/aistudio/SPH_Taichi/requirements.txt (line 2)) (4.2.0)\r\n",
      "Requirement already satisfied: numpy in /opt/conda/envs/python35-paddle120-env/lib/python3.10/site-packages (from taichi>=1.2.0->-r /home/aistudio/SPH_Taichi/requirements.txt (line 1)) (1.26.2)\r\n",
      "Requirement already satisfied: colorama in /opt/conda/envs/python35-paddle120-env/lib/python3.10/site-packages (from taichi>=1.2.0->-r /home/aistudio/SPH_Taichi/requirements.txt (line 1)) (0.4.6)\r\n",
      "Requirement already satisfied: dill in /opt/conda/envs/python35-paddle120-env/lib/python3.10/site-packages (from taichi>=1.2.0->-r /home/aistudio/SPH_Taichi/requirements.txt (line 1)) (0.3.4)\r\n",
      "Requirement already satisfied: rich in /opt/conda/envs/python35-paddle120-env/lib/python3.10/site-packages (from taichi>=1.2.0->-r /home/aistudio/SPH_Taichi/requirements.txt (line 1)) (13.7.0)\r\n",
      "Requirement already satisfied: markdown-it-py>=2.2.0 in /opt/conda/envs/python35-paddle120-env/lib/python3.10/site-packages (from rich->taichi>=1.2.0->-r /home/aistudio/SPH_Taichi/requirements.txt (line 1)) (2.2.0)\r\n",
      "Requirement already satisfied: pygments<3.0.0,>=2.13.0 in /opt/conda/envs/python35-paddle120-env/lib/python3.10/site-packages (from rich->taichi>=1.2.0->-r /home/aistudio/SPH_Taichi/requirements.txt (line 1)) (2.17.2)\r\n",
      "Requirement already satisfied: mdurl~=0.1 in /opt/conda/envs/python35-paddle120-env/lib/python3.10/site-packages (from markdown-it-py>=2.2.0->rich->taichi>=1.2.0->-r /home/aistudio/SPH_Taichi/requirements.txt (line 1)) (0.1.1)\r\n"
     ]
    }
   ],
   "source": [
    "!pip install -r /home/aistudio/SPH_Taichi/requirements.txt"
   ]
  },
  {
   "cell_type": "markdown",
   "metadata": {},
   "source": [
    "### **（2）运行**\n",
    "**单帧数据保存至/home/aistudio/SPH_Taichi/dragon_bath_output/**"
   ]
  },
  {
   "cell_type": "code",
   "execution_count": 16,
   "metadata": {
    "execution": {
     "iopub.execute_input": "2024-03-19T12:28:16.409823Z",
     "iopub.status.busy": "2024-03-19T12:28:16.409279Z",
     "iopub.status.idle": "2024-03-19T12:28:31.112094Z",
     "shell.execute_reply": "2024-03-19T12:28:31.111077Z",
     "shell.execute_reply.started": "2024-03-19T12:28:16.409786Z"
    },
    "scrolled": true,
    "tags": []
   },
   "outputs": [
    {
     "name": "stdout",
     "output_type": "stream",
     "text": [
      "[Taichi] version 1.7.0, llvm 15.0.4, commit 2fd24490, linux, python 3.10.10\r\n",
      "[Taichi] Starting on arch=cuda\r\n",
      "{'Configuration': {'domainStart': [0.0, 0.0, 0.0], 'domainEnd': [2.0, 2.0, 2.0], 'particleRadius': 0.01, 'numberOfStepsPerRenderUpdate': 1, 'density0': 1000, 'simulationMethod': 0, 'gravitation': [0.0, -9.81, 0.0], 'timeStepSize': 0.0004, 'stiffness': 50000, 'exponent': 7, 'boundaryHandlingMethod': 0, 'exportFrame': False, 'exportPly': True, 'exportObj': True}, 'FluidBlocks': [{'objectId': 0, 'start': [0.2, 0.4, 0.2], 'end': [1.0, 1.0, 1.2], 'translation': [0.0, 0.0, 0.0], 'scale': [1, 1, 1], 'velocity': [0.0, -1.0, 0.0], 'density': 1000.0, 'color': [50, 100, 200]}]}\r\n",
      "grid size:  [50 50 50]\r\n",
      "Current particle num: 0, Particle max num: 60000\r\n",
      "particle num  60000\r\n",
      "new position shape  (60000, 3)\r\n",
      "/opt/conda/envs/python35-paddle120-env/lib/python3.10/site-packages/taichi/lang/ast/ast_transformer.py:63: Warning: Casting range_for boundary values from f32 to i32, which may cause numerical issues\r\n",
      "  warnings.warn(\r\n",
      "^C\r\n",
      "Traceback (most recent call last):\r\n",
      "  File \"/home/aistudio/SPH_Taichi/run_simulation.py\", line 58, in <module>\r\n",
      "    writer.export_frame_ascii(cnt_ply, series_prefix.format(0))\r\n",
      "  File \"/opt/conda/envs/python35-paddle120-env/lib/python3.10/site-packages/taichi/tools/np2ply.py\", line 350, in export_frame_ascii\r\n",
      "    self.export_ascii(real_path)\r\n",
      "  File \"/opt/conda/envs/python35-paddle120-env/lib/python3.10/site-packages/taichi/tools/np2ply.py\", line 325, in export_ascii\r\n",
      "    f.write(str(self.vertex_data[j][i]) + \" \")\r\n",
      "KeyboardInterrupt\r\n"
     ]
    }
   ],
   "source": [
    "!python /home/aistudio/SPH_Taichi/run_simulation.py --scene_file=/home/aistudio/SPH_Taichi/scenes/dragon_bath.json"
   ]
  },
  {
   "cell_type": "markdown",
   "metadata": {},
   "source": [
    "![](https://ai-studio-static-online.cdn.bcebos.com/c6ee8d00f4c44adeb64a92d4120474cec8181ac1ea3e46ffa866eb40a0e182a0)\n"
   ]
  },
  {
   "cell_type": "markdown",
   "metadata": {},
   "source": [
    "## **7.MPM运行示例**"
   ]
  },
  {
   "cell_type": "markdown",
   "metadata": {},
   "source": [
    "### **（1）配置环境**"
   ]
  },
  {
   "cell_type": "code",
   "execution_count": 23,
   "metadata": {
    "execution": {
     "iopub.execute_input": "2024-03-19T12:55:15.154816Z",
     "iopub.status.busy": "2024-03-19T12:55:15.150446Z",
     "iopub.status.idle": "2024-03-19T13:04:28.995435Z",
     "shell.execute_reply": "2024-03-19T13:04:28.994206Z",
     "shell.execute_reply.started": "2024-03-19T12:55:15.154770Z"
    },
    "scrolled": true,
    "tags": []
   },
   "outputs": [
    {
     "name": "stdout",
     "output_type": "stream",
     "text": [
      "Looking in indexes: https://mirror.baidu.com/pypi/simple/, https://mirrors.aliyun.com/pypi/simple/\r\n",
      "Requirement already satisfied: taichi>=1.2.0 in /opt/conda/envs/python35-paddle120-env/lib/python3.10/site-packages (from -r /home/aistudio/MPM_Taichi/requirements.txt (line 1)) (1.7.0)\r\n",
      "Collecting numpy==1.23.1 (from -r /home/aistudio/MPM_Taichi/requirements.txt (line 2))\r\n",
      "  Downloading https://mirrors.aliyun.com/pypi/packages/88/cc/92815174c345015a326e3fff8beddcb951b3ef0f7c8296fcc22c622add7c/numpy-1.23.1-cp310-cp310-manylinux_2_17_x86_64.manylinux2014_x86_64.whl (17.0 MB)\r\n",
      "\u001b[2K     \u001b[90m━━━━━━━━━━━━━━━━━━━━━━━━━━━━━━━━━━━━━━━━\u001b[0m \u001b[32m17.0/17.0 MB\u001b[0m \u001b[31m31.4 kB/s\u001b[0m eta \u001b[36m0:00:00\u001b[0m00:01\u001b[0m00:14\u001b[0m\r\n",
      "\u001b[?25hRequirement already satisfied: matplotlib in /opt/conda/envs/python35-paddle120-env/lib/python3.10/site-packages (from -r /home/aistudio/MPM_Taichi/requirements.txt (line 3)) (3.8.2)\r\n",
      "Requirement already satisfied: tqdm in /opt/conda/envs/python35-paddle120-env/lib/python3.10/site-packages (from -r /home/aistudio/MPM_Taichi/requirements.txt (line 4)) (4.66.1)\r\n",
      "Requirement already satisfied: pandas in /opt/conda/envs/python35-paddle120-env/lib/python3.10/site-packages (from -r /home/aistudio/MPM_Taichi/requirements.txt (line 5)) (2.1.4)\r\n",
      "Requirement already satisfied: colorama in /opt/conda/envs/python35-paddle120-env/lib/python3.10/site-packages (from taichi>=1.2.0->-r /home/aistudio/MPM_Taichi/requirements.txt (line 1)) (0.4.6)\r\n",
      "Requirement already satisfied: dill in /opt/conda/envs/python35-paddle120-env/lib/python3.10/site-packages (from taichi>=1.2.0->-r /home/aistudio/MPM_Taichi/requirements.txt (line 1)) (0.3.4)\r\n",
      "Requirement already satisfied: rich in /opt/conda/envs/python35-paddle120-env/lib/python3.10/site-packages (from taichi>=1.2.0->-r /home/aistudio/MPM_Taichi/requirements.txt (line 1)) (13.7.0)\r\n",
      "Requirement already satisfied: contourpy>=1.0.1 in /opt/conda/envs/python35-paddle120-env/lib/python3.10/site-packages (from matplotlib->-r /home/aistudio/MPM_Taichi/requirements.txt (line 3)) (1.2.0)\r\n",
      "Requirement already satisfied: cycler>=0.10 in /opt/conda/envs/python35-paddle120-env/lib/python3.10/site-packages (from matplotlib->-r /home/aistudio/MPM_Taichi/requirements.txt (line 3)) (0.12.1)\r\n",
      "Requirement already satisfied: fonttools>=4.22.0 in /opt/conda/envs/python35-paddle120-env/lib/python3.10/site-packages (from matplotlib->-r /home/aistudio/MPM_Taichi/requirements.txt (line 3)) (4.47.0)\r\n",
      "Requirement already satisfied: kiwisolver>=1.3.1 in /opt/conda/envs/python35-paddle120-env/lib/python3.10/site-packages (from matplotlib->-r /home/aistudio/MPM_Taichi/requirements.txt (line 3)) (1.4.5)\r\n",
      "Requirement already satisfied: packaging>=20.0 in /opt/conda/envs/python35-paddle120-env/lib/python3.10/site-packages (from matplotlib->-r /home/aistudio/MPM_Taichi/requirements.txt (line 3)) (23.2)\r\n",
      "Requirement already satisfied: pillow>=8 in /opt/conda/envs/python35-paddle120-env/lib/python3.10/site-packages (from matplotlib->-r /home/aistudio/MPM_Taichi/requirements.txt (line 3)) (10.1.0)\r\n",
      "Requirement already satisfied: pyparsing>=2.3.1 in /opt/conda/envs/python35-paddle120-env/lib/python3.10/site-packages (from matplotlib->-r /home/aistudio/MPM_Taichi/requirements.txt (line 3)) (3.1.1)\r\n",
      "Requirement already satisfied: python-dateutil>=2.7 in /opt/conda/envs/python35-paddle120-env/lib/python3.10/site-packages (from matplotlib->-r /home/aistudio/MPM_Taichi/requirements.txt (line 3)) (2.8.2)\r\n",
      "Requirement already satisfied: pytz>=2020.1 in /opt/conda/envs/python35-paddle120-env/lib/python3.10/site-packages (from pandas->-r /home/aistudio/MPM_Taichi/requirements.txt (line 5)) (2023.3.post1)\r\n",
      "Requirement already satisfied: tzdata>=2022.1 in /opt/conda/envs/python35-paddle120-env/lib/python3.10/site-packages (from pandas->-r /home/aistudio/MPM_Taichi/requirements.txt (line 5)) (2023.3)\r\n",
      "Requirement already satisfied: six>=1.5 in /opt/conda/envs/python35-paddle120-env/lib/python3.10/site-packages (from python-dateutil>=2.7->matplotlib->-r /home/aistudio/MPM_Taichi/requirements.txt (line 3)) (1.16.0)\r\n",
      "Requirement already satisfied: markdown-it-py>=2.2.0 in /opt/conda/envs/python35-paddle120-env/lib/python3.10/site-packages (from rich->taichi>=1.2.0->-r /home/aistudio/MPM_Taichi/requirements.txt (line 1)) (2.2.0)\r\n",
      "Requirement already satisfied: pygments<3.0.0,>=2.13.0 in /opt/conda/envs/python35-paddle120-env/lib/python3.10/site-packages (from rich->taichi>=1.2.0->-r /home/aistudio/MPM_Taichi/requirements.txt (line 1)) (2.17.2)\r\n",
      "Requirement already satisfied: mdurl~=0.1 in /opt/conda/envs/python35-paddle120-env/lib/python3.10/site-packages (from markdown-it-py>=2.2.0->rich->taichi>=1.2.0->-r /home/aistudio/MPM_Taichi/requirements.txt (line 1)) (0.1.1)\r\n",
      "Installing collected packages: numpy\r\n",
      "  Attempting uninstall: numpy\r\n",
      "    Found existing installation: numpy 1.26.2\r\n",
      "    Uninstalling numpy-1.26.2:\r\n",
      "      Successfully uninstalled numpy-1.26.2\r\n",
      "Successfully installed numpy-1.23.1\r\n"
     ]
    }
   ],
   "source": [
    "!pip install -r /home/aistudio/MPM_Taichi/requirements.txt"
   ]
  },
  {
   "cell_type": "markdown",
   "metadata": {},
   "source": [
    "### **（2）运行**\n",
    "\n",
    "**数据以及gif保存至/home/aistudio/MPM_Taichi/examples/slope_sand**"
   ]
  },
  {
   "cell_type": "code",
   "execution_count": 25,
   "metadata": {
    "execution": {
     "iopub.execute_input": "2024-03-19T13:07:38.603812Z",
     "iopub.status.busy": "2024-03-19T13:07:38.603242Z",
     "iopub.status.idle": "2024-03-19T13:09:45.723665Z",
     "shell.execute_reply": "2024-03-19T13:09:45.722264Z",
     "shell.execute_reply.started": "2024-03-19T13:07:38.603779Z"
    },
    "scrolled": true,
    "tags": []
   },
   "outputs": [
    {
     "name": "stdout",
     "output_type": "stream",
     "text": [
      "[Taichi] version 1.7.0, llvm 15.0.4, commit 2fd24490, linux, python 3.10.10\r\n",
      "[Taichi] Starting on arch=x64\r\n",
      "Running simulation 0/2...\r\n",
      "100%|█████████████████████████████████████████| 500/500 [00:40<00:00, 12.26it/s]\r\n",
      "False\r\n",
      "/opt/conda/envs/python35-paddle120-env/lib/python3.10/site-packages/numpy/lib/npyio.py:696: VisibleDeprecationWarning: Creating an ndarray from ragged nested sequences (which is a list-or-tuple of lists-or-tuples-or ndarrays with different lengths or shapes) is deprecated. If you meant to do this, you must specify 'dtype=object' when creating the ndarray.\r\n",
      "  val = np.asanyarray(val)\r\n",
      "Trajectory 0 has 1636 particles\r\n",
      "Output written to: /home/aistudio/MPM_Taichi/examples/slope_sand//trajectory0\r\n",
      "MovieWriter imagemagick unavailable; using Pillow instead.\r\n",
      "Animation saved to: /home/aistudio/MPM_Taichi/examples/slope_sand//trajectory0.gif\r\n",
      "Running simulation 1/2...\r\n",
      "100%|█████████████████████████████████████████| 500/500 [00:41<00:00, 12.17it/s]\r\n",
      "False\r\n",
      "/opt/conda/envs/python35-paddle120-env/lib/python3.10/site-packages/numpy/lib/npyio.py:696: VisibleDeprecationWarning: Creating an ndarray from ragged nested sequences (which is a list-or-tuple of lists-or-tuples-or ndarrays with different lengths or shapes) is deprecated. If you meant to do this, you must specify 'dtype=object' when creating the ndarray.\r\n",
      "  val = np.asanyarray(val)\r\n",
      "Trajectory 1 has 1636 particles\r\n",
      "Output written to: /home/aistudio/MPM_Taichi/examples/slope_sand//trajectory1\r\n",
      "MovieWriter imagemagick unavailable; using Pillow instead.\r\n",
      "Animation saved to: /home/aistudio/MPM_Taichi/examples/slope_sand//trajectory1.gif\r\n"
     ]
    }
   ],
   "source": [
    "!python /home/aistudio/MPM_Taichi/run_mpm.py --input_path=/home/aistudio/MPM_Taichi/examples/slope_sand/inputs_2d_gns.json"
   ]
  },
  {
   "cell_type": "markdown",
   "metadata": {},
   "source": [
    "![](https://ai-studio-static-online.cdn.bcebos.com/fbab9e3129b946cfb1b46e284a662fb005792bc8704f4d948054c25800a78315)\n"
   ]
  },
  {
   "cell_type": "markdown",
   "metadata": {},
   "source": [
    "## **8.DEM请看章节五第二节流程图**\n",
    "\n"
   ]
  },
  {
   "cell_type": "markdown",
   "metadata": {},
   "source": [
    "![](https://ai-studio-static-online.cdn.bcebos.com/5c09cfa69b334a4583c54d41387c7640f7d1fd5397e24b44b6b6f97b06fe83b7)\n",
    "![](https://ai-studio-static-online.cdn.bcebos.com/489eb25cdc404ed9aa021a347d5d93135bf390847cac4e03a50172dddc886d81)\n"
   ]
  },
  {
   "cell_type": "markdown",
   "metadata": {},
   "source": [
    "## **9.数据集描述**\n",
    "**1.结构：**\n",
    "\n",
    "**\".h5\"格式包含一个任意长度的元组列表，其中每个元组对应于不同的训练轨迹，格式为（位置信息，粒子类型信息），其中粒子位置信息格式为（n_time_steps，n_particles，n_dimensions）的三维张量，粒子类型是一个形状为（n_particles）的一维张量,其中的数值0-9代表了不同的颗粒类型。**\n",
    "\n",
    "**举例test.h5：  test[\"trajectory_01\"][0][0][0][0]**\n",
    "* trajectory_01代表其中一个场景，包括当前场景下的全部粒子的信息；\n",
    "* 第一个[0]代表所有帧的粒子位置信息；\n",
    "* 第二个[0]代表当前场景下第一帧所有粒子的位置信息；\n",
    "* 第三个[0]代表第一帧下的第一个粒子信息[x,y,z]；\n",
    "* 第四个[0]代表第一个粒子x坐标的信息；\n",
    "\n",
    "**2.数据集的应用场景：**\n",
    "* 2D_SAND，可用来模拟溃坝，用来研究不同属性（摩擦系数与恢复系数等属性）下，砂砾坍塌的形态。\n",
    "* 3D_RPF,反向普瓦塞流动（ Reverse Poiseuille Flow ），可以深化我们对流体行为的理解，特别是在非传统条件或非牛顿流体中的行为。\n",
    "* 3D_DEM,可以用来研究不同属性颗粒的运动状态。\n",
    "* slope_dem以及slope_mpm，用来研究颗粒流体在与挡板的作用下的运动状态。\n",
    "* slope_two_component_dem,用来研究多种组分不同颗粒类型相互作用（不同密度，质量，体积相互作用），不同组分下颗粒的混合情况。\n",
    "\n",
    "* .........\n"
   ]
  },
  {
   "cell_type": "markdown",
   "metadata": {},
   "source": [
    "# 四. 结果展示"
   ]
  },
  {
   "cell_type": "markdown",
   "metadata": {},
   "source": [
    "**MPM生成（gns训练推理）：**"
   ]
  },
  {
   "cell_type": "markdown",
   "metadata": {},
   "source": [
    "![](https://ai-studio-static-online.cdn.bcebos.com/d01e99165f6746f785b307a49efa5f13545571962e0046e58a1615976ba7f651)\n"
   ]
  },
  {
   "cell_type": "markdown",
   "metadata": {},
   "source": [
    "**DEM生成（gns训练推理）：**"
   ]
  },
  {
   "cell_type": "markdown",
   "metadata": {},
   "source": [
    "![](https://ai-studio-static-online.cdn.bcebos.com/fcbd8f4d3e9e47bc8327521ddd43ff6cb8d54a0707df4c058c5c8651b0765f15)\n"
   ]
  },
  {
   "cell_type": "markdown",
   "metadata": {},
   "source": [
    "**dem 多组分颗粒（黄色颗粒是蓝色密度的三倍）：**"
   ]
  },
  {
   "cell_type": "markdown",
   "metadata": {},
   "source": [
    "![](https://ai-studio-static-online.cdn.bcebos.com/844d3bf1f81548938344af4a29a27d976a8ca75c8bbb44c4bff6326e4836b62e)\n"
   ]
  },
  {
   "cell_type": "markdown",
   "metadata": {},
   "source": [
    "**dem 3D挡板（训练推理）：**"
   ]
  },
  {
   "cell_type": "markdown",
   "metadata": {},
   "source": [
    "![](https://ai-studio-static-online.cdn.bcebos.com/5273aa2fd92a4e4fa1dce208417b8138a8422883ab3147ef91e822a5a9f66bd7)\n"
   ]
  },
  {
   "cell_type": "markdown",
   "metadata": {},
   "source": [
    "![](https://ai-studio-static-online.cdn.bcebos.com/f0a0181b4e5544d8a6825bdd980f734ec374e4e92e5c4fa7b3e144b14383e346)\n"
   ]
  },
  {
   "cell_type": "markdown",
   "metadata": {},
   "source": [
    "![](https://ai-studio-static-online.cdn.bcebos.com/30576ebe2ccd467691e4c482de677bd4d858e8d4b7e741c8bc4b6507497b10ef)\n"
   ]
  },
  {
   "cell_type": "markdown",
   "metadata": {},
   "source": [
    "![](https://ai-studio-static-online.cdn.bcebos.com/13ab5e890a8045819ec10130af0a3c049c28645d6d2a450a8f44e50184a986f0)\n"
   ]
  },
  {
   "cell_type": "markdown",
   "metadata": {},
   "source": [
    "![](https://ai-studio-static-online.cdn.bcebos.com/d0ebbdc80a584e77aa60d85746be65cd176f6e6bb0e2424bab9aecbd28de522c)\n"
   ]
  },
  {
   "cell_type": "markdown",
   "metadata": {},
   "source": [
    "# 五. 数据集生成示意图"
   ]
  },
  {
   "cell_type": "markdown",
   "metadata": {},
   "source": [
    "## **1.生成sph、mpm数据集流程图:**\n",
    "![](https://ai-studio-static-online.cdn.bcebos.com/c8395bf6e35e42bf8fa7785a80d8808c4cbb8420ec47498aaa872e9dd7b79479)\n"
   ]
  },
  {
   "cell_type": "markdown",
   "metadata": {},
   "source": [
    "## **2.dem数据集流程图：**\n",
    "![](https://ai-studio-static-online.cdn.bcebos.com/5f77ec65434543e9a39cf8bfa04f2fe468805c12636f4d8f9526dd2cfe4f8d3e)\n"
   ]
  },
  {
   "cell_type": "markdown",
   "metadata": {},
   "source": [
    "# 致谢\n",
    "\n",
    "**感谢上海交通大学陈锡忠教授的悉心指导！感谢百度周原野博士对本项目的指导和大力支持！**"
   ]
  },
  {
   "cell_type": "markdown",
   "metadata": {},
   "source": [
    "# 参考项目地址："
   ]
  },
  {
   "cell_type": "markdown",
   "metadata": {},
   "source": [
    "**1. 训练网络源项目地址：**[https://github.com/tumaer/lagrangebench/tree/main](http://)\n",
    "\n",
    "**2. SPH_Taichi源项目地址：**[https://github.com/erizmr/SPH_Taichi](http://)\n",
    "\n",
    "**3. MPM_Taichi源项目地址：**[https://github.com/yjchoi1/taichi_mpm](http://)\n",
    "\n",
    "**4. Mfix软件地址：**[https://mfix.netl.doe.gov/products/mfix/](http://)\n"
   ]
  }
 ],
 "metadata": {
  "kernelspec": {
   "display_name": "Python 3",
   "language": "python",
   "name": "py35-paddle1.2.0"
  },
  "language_info": {
   "codemirror_mode": {
    "name": "ipython",
    "version": 3
   },
   "file_extension": ".py",
   "mimetype": "text/x-python",
   "name": "python",
   "nbconvert_exporter": "python",
   "pygments_lexer": "ipython3",
   "version": "3.10.10"
  }
 },
 "nbformat": 4,
 "nbformat_minor": 4
}
